{
 "cells": [
  {
   "cell_type": "code",
   "execution_count": 47,
   "metadata": {},
   "outputs": [],
   "source": [
    "import utils, pickle\n",
    "import numpy as np\n",
    "import pandas as pd\n",
    "import seaborn as sns\n",
    "import matplotlib.pyplot as plt\n",
    "%matplotlib inline"
   ]
  },
  {
   "cell_type": "code",
   "execution_count": 48,
   "metadata": {},
   "outputs": [],
   "source": [
    "df = pd.read_csv('mine.csv')"
   ]
  },
  {
   "cell_type": "code",
   "execution_count": 49,
   "metadata": {},
   "outputs": [
    {
     "data": {
      "text/html": [
       "<div>\n",
       "<style scoped>\n",
       "    .dataframe tbody tr th:only-of-type {\n",
       "        vertical-align: middle;\n",
       "    }\n",
       "\n",
       "    .dataframe tbody tr th {\n",
       "        vertical-align: top;\n",
       "    }\n",
       "\n",
       "    .dataframe thead th {\n",
       "        text-align: right;\n",
       "    }\n",
       "</style>\n",
       "<table border=\"1\" class=\"dataframe\">\n",
       "  <thead>\n",
       "    <tr style=\"text-align: right;\">\n",
       "      <th></th>\n",
       "      <th>slno</th>\n",
       "      <th>pH</th>\n",
       "      <th>BDef</th>\n",
       "      <th>PCO2</th>\n",
       "      <th>BE</th>\n",
       "    </tr>\n",
       "  </thead>\n",
       "  <tbody>\n",
       "    <tr>\n",
       "      <th>0</th>\n",
       "      <td>1</td>\n",
       "      <td>7.14</td>\n",
       "      <td>8.14</td>\n",
       "      <td>7.7</td>\n",
       "      <td>-10.5</td>\n",
       "    </tr>\n",
       "    <tr>\n",
       "      <th>1</th>\n",
       "      <td>2</td>\n",
       "      <td>7.00</td>\n",
       "      <td>7.92</td>\n",
       "      <td>12.0</td>\n",
       "      <td>-12.0</td>\n",
       "    </tr>\n",
       "    <tr>\n",
       "      <th>2</th>\n",
       "      <td>3</td>\n",
       "      <td>7.20</td>\n",
       "      <td>3.03</td>\n",
       "      <td>8.3</td>\n",
       "      <td>-5.6</td>\n",
       "    </tr>\n",
       "    <tr>\n",
       "      <th>3</th>\n",
       "      <td>4</td>\n",
       "      <td>7.30</td>\n",
       "      <td>5.19</td>\n",
       "      <td>5.5</td>\n",
       "      <td>-6.4</td>\n",
       "    </tr>\n",
       "    <tr>\n",
       "      <th>4</th>\n",
       "      <td>5</td>\n",
       "      <td>7.30</td>\n",
       "      <td>-4.52</td>\n",
       "      <td>5.7</td>\n",
       "      <td>-5.8</td>\n",
       "    </tr>\n",
       "  </tbody>\n",
       "</table>\n",
       "</div>"
      ],
      "text/plain": [
       "   slno    pH  BDef  PCO2    BE\n",
       "0     1  7.14  8.14   7.7 -10.5\n",
       "1     2  7.00  7.92  12.0 -12.0\n",
       "2     3  7.20  3.03   8.3  -5.6\n",
       "3     4  7.30  5.19   5.5  -6.4\n",
       "4     5  7.30 -4.52   5.7  -5.8"
      ]
     },
     "execution_count": 49,
     "metadata": {},
     "output_type": "execute_result"
    }
   ],
   "source": [
    "df.head()"
   ]
  },
  {
   "cell_type": "code",
   "execution_count": 50,
   "metadata": {},
   "outputs": [
    {
     "data": {
      "text/html": [
       "<div>\n",
       "<style scoped>\n",
       "    .dataframe tbody tr th:only-of-type {\n",
       "        vertical-align: middle;\n",
       "    }\n",
       "\n",
       "    .dataframe tbody tr th {\n",
       "        vertical-align: top;\n",
       "    }\n",
       "\n",
       "    .dataframe thead th {\n",
       "        text-align: right;\n",
       "    }\n",
       "</style>\n",
       "<table border=\"1\" class=\"dataframe\">\n",
       "  <thead>\n",
       "    <tr style=\"text-align: right;\">\n",
       "      <th></th>\n",
       "      <th>slno</th>\n",
       "      <th>pH</th>\n",
       "      <th>BDef</th>\n",
       "      <th>PCO2</th>\n",
       "      <th>BE</th>\n",
       "    </tr>\n",
       "  </thead>\n",
       "  <tbody>\n",
       "    <tr>\n",
       "      <th>547</th>\n",
       "      <td>548</td>\n",
       "      <td>7.33</td>\n",
       "      <td>-0.50</td>\n",
       "      <td>6.6</td>\n",
       "      <td>-0.8</td>\n",
       "    </tr>\n",
       "    <tr>\n",
       "      <th>548</th>\n",
       "      <td>549</td>\n",
       "      <td>7.08</td>\n",
       "      <td>10.92</td>\n",
       "      <td>7.9</td>\n",
       "      <td>-13.3</td>\n",
       "    </tr>\n",
       "    <tr>\n",
       "      <th>549</th>\n",
       "      <td>550</td>\n",
       "      <td>7.02</td>\n",
       "      <td>9.13</td>\n",
       "      <td>10.6</td>\n",
       "      <td>-12.3</td>\n",
       "    </tr>\n",
       "    <tr>\n",
       "      <th>550</th>\n",
       "      <td>551</td>\n",
       "      <td>7.03</td>\n",
       "      <td>8.91</td>\n",
       "      <td>10.4</td>\n",
       "      <td>-12.2</td>\n",
       "    </tr>\n",
       "    <tr>\n",
       "      <th>551</th>\n",
       "      <td>552</td>\n",
       "      <td>7.01</td>\n",
       "      <td>0.00</td>\n",
       "      <td>0.0</td>\n",
       "      <td>0.0</td>\n",
       "    </tr>\n",
       "  </tbody>\n",
       "</table>\n",
       "</div>"
      ],
      "text/plain": [
       "     slno    pH   BDef  PCO2    BE\n",
       "547   548  7.33  -0.50   6.6  -0.8\n",
       "548   549  7.08  10.92   7.9 -13.3\n",
       "549   550  7.02   9.13  10.6 -12.3\n",
       "550   551  7.03   8.91  10.4 -12.2\n",
       "551   552  7.01   0.00   0.0   0.0"
      ]
     },
     "execution_count": 50,
     "metadata": {},
     "output_type": "execute_result"
    }
   ],
   "source": [
    "df.tail()"
   ]
  },
  {
   "cell_type": "code",
   "execution_count": 51,
   "metadata": {},
   "outputs": [
    {
     "data": {
      "text/plain": [
       "(552, 5)"
      ]
     },
     "execution_count": 51,
     "metadata": {},
     "output_type": "execute_result"
    }
   ],
   "source": [
    "df.shape"
   ]
  },
  {
   "cell_type": "code",
   "execution_count": 52,
   "metadata": {},
   "outputs": [
    {
     "data": {
      "text/plain": [
       "slno      int64\n",
       "pH      float64\n",
       "BDef    float64\n",
       "PCO2    float64\n",
       "BE      float64\n",
       "dtype: object"
      ]
     },
     "execution_count": 52,
     "metadata": {},
     "output_type": "execute_result"
    }
   ],
   "source": [
    "df.dtypes"
   ]
  },
  {
   "cell_type": "code",
   "execution_count": 53,
   "metadata": {},
   "outputs": [
    {
     "data": {
      "text/plain": [
       "slno    0\n",
       "pH      0\n",
       "BDef    0\n",
       "PCO2    0\n",
       "BE      0\n",
       "dtype: int64"
      ]
     },
     "execution_count": 53,
     "metadata": {},
     "output_type": "execute_result"
    }
   ],
   "source": [
    "df.isnull().sum()"
   ]
  },
  {
   "cell_type": "code",
   "execution_count": 54,
   "metadata": {},
   "outputs": [
    {
     "data": {
      "text/html": [
       "<div>\n",
       "<style scoped>\n",
       "    .dataframe tbody tr th:only-of-type {\n",
       "        vertical-align: middle;\n",
       "    }\n",
       "\n",
       "    .dataframe tbody tr th {\n",
       "        vertical-align: top;\n",
       "    }\n",
       "\n",
       "    .dataframe thead th {\n",
       "        text-align: right;\n",
       "    }\n",
       "</style>\n",
       "<table border=\"1\" class=\"dataframe\">\n",
       "  <thead>\n",
       "    <tr style=\"text-align: right;\">\n",
       "      <th></th>\n",
       "      <th>pH</th>\n",
       "      <th>BDef</th>\n",
       "      <th>PCO2</th>\n",
       "      <th>BE</th>\n",
       "    </tr>\n",
       "  </thead>\n",
       "  <tbody>\n",
       "    <tr>\n",
       "      <th>0</th>\n",
       "      <td>7.14</td>\n",
       "      <td>8.14</td>\n",
       "      <td>7.7</td>\n",
       "      <td>-10.5</td>\n",
       "    </tr>\n",
       "    <tr>\n",
       "      <th>1</th>\n",
       "      <td>7.00</td>\n",
       "      <td>7.92</td>\n",
       "      <td>12.0</td>\n",
       "      <td>-12.0</td>\n",
       "    </tr>\n",
       "    <tr>\n",
       "      <th>2</th>\n",
       "      <td>7.20</td>\n",
       "      <td>3.03</td>\n",
       "      <td>8.3</td>\n",
       "      <td>-5.6</td>\n",
       "    </tr>\n",
       "    <tr>\n",
       "      <th>3</th>\n",
       "      <td>7.30</td>\n",
       "      <td>5.19</td>\n",
       "      <td>5.5</td>\n",
       "      <td>-6.4</td>\n",
       "    </tr>\n",
       "    <tr>\n",
       "      <th>4</th>\n",
       "      <td>7.30</td>\n",
       "      <td>-4.52</td>\n",
       "      <td>5.7</td>\n",
       "      <td>-5.8</td>\n",
       "    </tr>\n",
       "    <tr>\n",
       "      <th>5</th>\n",
       "      <td>7.23</td>\n",
       "      <td>1.29</td>\n",
       "      <td>8.2</td>\n",
       "      <td>-3.8</td>\n",
       "    </tr>\n",
       "    <tr>\n",
       "      <th>6</th>\n",
       "      <td>7.16</td>\n",
       "      <td>4.35</td>\n",
       "      <td>8.8</td>\n",
       "      <td>-6.8</td>\n",
       "    </tr>\n",
       "    <tr>\n",
       "      <th>7</th>\n",
       "      <td>7.36</td>\n",
       "      <td>3.88</td>\n",
       "      <td>4.9</td>\n",
       "      <td>-4.6</td>\n",
       "    </tr>\n",
       "    <tr>\n",
       "      <th>8</th>\n",
       "      <td>7.18</td>\n",
       "      <td>7.60</td>\n",
       "      <td>7.0</td>\n",
       "      <td>-9.6</td>\n",
       "    </tr>\n",
       "    <tr>\n",
       "      <th>9</th>\n",
       "      <td>7.35</td>\n",
       "      <td>5.20</td>\n",
       "      <td>4.7</td>\n",
       "      <td>-5.9</td>\n",
       "    </tr>\n",
       "    <tr>\n",
       "      <th>10</th>\n",
       "      <td>7.37</td>\n",
       "      <td>1.73</td>\n",
       "      <td>5.3</td>\n",
       "      <td>-2.6</td>\n",
       "    </tr>\n",
       "    <tr>\n",
       "      <th>11</th>\n",
       "      <td>7.36</td>\n",
       "      <td>0.82</td>\n",
       "      <td>5.7</td>\n",
       "      <td>-1.5</td>\n",
       "    </tr>\n",
       "    <tr>\n",
       "      <th>12</th>\n",
       "      <td>7.22</td>\n",
       "      <td>5.30</td>\n",
       "      <td>7.0</td>\n",
       "      <td>-7.3</td>\n",
       "    </tr>\n",
       "    <tr>\n",
       "      <th>13</th>\n",
       "      <td>7.14</td>\n",
       "      <td>9.75</td>\n",
       "      <td>7.0</td>\n",
       "      <td>-11.7</td>\n",
       "    </tr>\n",
       "    <tr>\n",
       "      <th>14</th>\n",
       "      <td>7.20</td>\n",
       "      <td>5.15</td>\n",
       "      <td>7.5</td>\n",
       "      <td>-7.3</td>\n",
       "    </tr>\n",
       "    <tr>\n",
       "      <th>15</th>\n",
       "      <td>7.32</td>\n",
       "      <td>4.73</td>\n",
       "      <td>5.3</td>\n",
       "      <td>-5.9</td>\n",
       "    </tr>\n",
       "    <tr>\n",
       "      <th>16</th>\n",
       "      <td>7.00</td>\n",
       "      <td>11.10</td>\n",
       "      <td>10.1</td>\n",
       "      <td>-15.0</td>\n",
       "    </tr>\n",
       "    <tr>\n",
       "      <th>17</th>\n",
       "      <td>7.09</td>\n",
       "      <td>9.58</td>\n",
       "      <td>8.3</td>\n",
       "      <td>-12.1</td>\n",
       "    </tr>\n",
       "    <tr>\n",
       "      <th>18</th>\n",
       "      <td>7.15</td>\n",
       "      <td>6.40</td>\n",
       "      <td>8.2</td>\n",
       "      <td>-8.8</td>\n",
       "    </tr>\n",
       "    <tr>\n",
       "      <th>19</th>\n",
       "      <td>7.37</td>\n",
       "      <td>3.29</td>\n",
       "      <td>4.9</td>\n",
       "      <td>-3.7</td>\n",
       "    </tr>\n",
       "    <tr>\n",
       "      <th>20</th>\n",
       "      <td>7.21</td>\n",
       "      <td>2.10</td>\n",
       "      <td>8.4</td>\n",
       "      <td>-4.6</td>\n",
       "    </tr>\n",
       "    <tr>\n",
       "      <th>21</th>\n",
       "      <td>7.28</td>\n",
       "      <td>1.53</td>\n",
       "      <td>7.0</td>\n",
       "      <td>-3.0</td>\n",
       "    </tr>\n",
       "    <tr>\n",
       "      <th>22</th>\n",
       "      <td>7.30</td>\n",
       "      <td>3.19</td>\n",
       "      <td>6.1</td>\n",
       "      <td>-4.5</td>\n",
       "    </tr>\n",
       "    <tr>\n",
       "      <th>23</th>\n",
       "      <td>7.43</td>\n",
       "      <td>0.91</td>\n",
       "      <td>4.6</td>\n",
       "      <td>-1.3</td>\n",
       "    </tr>\n",
       "    <tr>\n",
       "      <th>24</th>\n",
       "      <td>7.34</td>\n",
       "      <td>3.56</td>\n",
       "      <td>5.3</td>\n",
       "      <td>-4.4</td>\n",
       "    </tr>\n",
       "    <tr>\n",
       "      <th>25</th>\n",
       "      <td>7.27</td>\n",
       "      <td>5.61</td>\n",
       "      <td>5.9</td>\n",
       "      <td>-7.0</td>\n",
       "    </tr>\n",
       "    <tr>\n",
       "      <th>26</th>\n",
       "      <td>7.33</td>\n",
       "      <td>3.08</td>\n",
       "      <td>5.6</td>\n",
       "      <td>-4.3</td>\n",
       "    </tr>\n",
       "    <tr>\n",
       "      <th>27</th>\n",
       "      <td>7.25</td>\n",
       "      <td>4.66</td>\n",
       "      <td>6.6</td>\n",
       "      <td>-6.0</td>\n",
       "    </tr>\n",
       "    <tr>\n",
       "      <th>28</th>\n",
       "      <td>6.97</td>\n",
       "      <td>19.38</td>\n",
       "      <td>5.8</td>\n",
       "      <td>-21.5</td>\n",
       "    </tr>\n",
       "    <tr>\n",
       "      <th>29</th>\n",
       "      <td>7.16</td>\n",
       "      <td>8.45</td>\n",
       "      <td>7.1</td>\n",
       "      <td>-10.4</td>\n",
       "    </tr>\n",
       "    <tr>\n",
       "      <th>...</th>\n",
       "      <td>...</td>\n",
       "      <td>...</td>\n",
       "      <td>...</td>\n",
       "      <td>...</td>\n",
       "    </tr>\n",
       "    <tr>\n",
       "      <th>522</th>\n",
       "      <td>7.32</td>\n",
       "      <td>-0.16</td>\n",
       "      <td>6.7</td>\n",
       "      <td>-2.0</td>\n",
       "    </tr>\n",
       "    <tr>\n",
       "      <th>523</th>\n",
       "      <td>7.31</td>\n",
       "      <td>3.93</td>\n",
       "      <td>5.7</td>\n",
       "      <td>-5.0</td>\n",
       "    </tr>\n",
       "    <tr>\n",
       "      <th>524</th>\n",
       "      <td>7.29</td>\n",
       "      <td>4.13</td>\n",
       "      <td>6.0</td>\n",
       "      <td>-5.6</td>\n",
       "    </tr>\n",
       "    <tr>\n",
       "      <th>525</th>\n",
       "      <td>7.15</td>\n",
       "      <td>3.09</td>\n",
       "      <td>9.6</td>\n",
       "      <td>-5.8</td>\n",
       "    </tr>\n",
       "    <tr>\n",
       "      <th>526</th>\n",
       "      <td>7.30</td>\n",
       "      <td>0.19</td>\n",
       "      <td>7.0</td>\n",
       "      <td>-2.2</td>\n",
       "    </tr>\n",
       "    <tr>\n",
       "      <th>527</th>\n",
       "      <td>7.28</td>\n",
       "      <td>-0.38</td>\n",
       "      <td>7.6</td>\n",
       "      <td>-1.6</td>\n",
       "    </tr>\n",
       "    <tr>\n",
       "      <th>528</th>\n",
       "      <td>6.98</td>\n",
       "      <td>14.39</td>\n",
       "      <td>8.7</td>\n",
       "      <td>-17.4</td>\n",
       "    </tr>\n",
       "    <tr>\n",
       "      <th>529</th>\n",
       "      <td>7.01</td>\n",
       "      <td>7.14</td>\n",
       "      <td>12.1</td>\n",
       "      <td>-10.9</td>\n",
       "    </tr>\n",
       "    <tr>\n",
       "      <th>530</th>\n",
       "      <td>6.99</td>\n",
       "      <td>12.61</td>\n",
       "      <td>9.5</td>\n",
       "      <td>-16.0</td>\n",
       "    </tr>\n",
       "    <tr>\n",
       "      <th>531</th>\n",
       "      <td>7.23</td>\n",
       "      <td>-0.13</td>\n",
       "      <td>8.7</td>\n",
       "      <td>-2.1</td>\n",
       "    </tr>\n",
       "    <tr>\n",
       "      <th>532</th>\n",
       "      <td>7.31</td>\n",
       "      <td>1.88</td>\n",
       "      <td>6.3</td>\n",
       "      <td>-3.2</td>\n",
       "    </tr>\n",
       "    <tr>\n",
       "      <th>533</th>\n",
       "      <td>7.18</td>\n",
       "      <td>4.82</td>\n",
       "      <td>8.1</td>\n",
       "      <td>-7.2</td>\n",
       "    </tr>\n",
       "    <tr>\n",
       "      <th>534</th>\n",
       "      <td>7.28</td>\n",
       "      <td>1.22</td>\n",
       "      <td>7.1</td>\n",
       "      <td>-3.4</td>\n",
       "    </tr>\n",
       "    <tr>\n",
       "      <th>535</th>\n",
       "      <td>7.04</td>\n",
       "      <td>26.11</td>\n",
       "      <td>0.7</td>\n",
       "      <td>-26.8</td>\n",
       "    </tr>\n",
       "    <tr>\n",
       "      <th>536</th>\n",
       "      <td>7.29</td>\n",
       "      <td>1.52</td>\n",
       "      <td>6.8</td>\n",
       "      <td>-2.9</td>\n",
       "    </tr>\n",
       "    <tr>\n",
       "      <th>537</th>\n",
       "      <td>7.26</td>\n",
       "      <td>3.14</td>\n",
       "      <td>6.9</td>\n",
       "      <td>-4.7</td>\n",
       "    </tr>\n",
       "    <tr>\n",
       "      <th>538</th>\n",
       "      <td>7.39</td>\n",
       "      <td>0.86</td>\n",
       "      <td>5.2</td>\n",
       "      <td>-1.5</td>\n",
       "    </tr>\n",
       "    <tr>\n",
       "      <th>539</th>\n",
       "      <td>7.34</td>\n",
       "      <td>0.00</td>\n",
       "      <td>0.0</td>\n",
       "      <td>0.0</td>\n",
       "    </tr>\n",
       "    <tr>\n",
       "      <th>540</th>\n",
       "      <td>7.26</td>\n",
       "      <td>2.23</td>\n",
       "      <td>7.2</td>\n",
       "      <td>-4.3</td>\n",
       "    </tr>\n",
       "    <tr>\n",
       "      <th>541</th>\n",
       "      <td>7.29</td>\n",
       "      <td>2.50</td>\n",
       "      <td>6.5</td>\n",
       "      <td>-3.7</td>\n",
       "    </tr>\n",
       "    <tr>\n",
       "      <th>542</th>\n",
       "      <td>7.25</td>\n",
       "      <td>1.09</td>\n",
       "      <td>7.8</td>\n",
       "      <td>-3.0</td>\n",
       "    </tr>\n",
       "    <tr>\n",
       "      <th>543</th>\n",
       "      <td>7.36</td>\n",
       "      <td>3.50</td>\n",
       "      <td>5.0</td>\n",
       "      <td>-4.0</td>\n",
       "    </tr>\n",
       "    <tr>\n",
       "      <th>544</th>\n",
       "      <td>7.32</td>\n",
       "      <td>-0.51</td>\n",
       "      <td>6.8</td>\n",
       "      <td>-0.5</td>\n",
       "    </tr>\n",
       "    <tr>\n",
       "      <th>545</th>\n",
       "      <td>7.23</td>\n",
       "      <td>5.27</td>\n",
       "      <td>6.8</td>\n",
       "      <td>-7.0</td>\n",
       "    </tr>\n",
       "    <tr>\n",
       "      <th>546</th>\n",
       "      <td>7.37</td>\n",
       "      <td>3.69</td>\n",
       "      <td>4.8</td>\n",
       "      <td>-3.1</td>\n",
       "    </tr>\n",
       "    <tr>\n",
       "      <th>547</th>\n",
       "      <td>7.33</td>\n",
       "      <td>-0.50</td>\n",
       "      <td>6.6</td>\n",
       "      <td>-0.8</td>\n",
       "    </tr>\n",
       "    <tr>\n",
       "      <th>548</th>\n",
       "      <td>7.08</td>\n",
       "      <td>10.92</td>\n",
       "      <td>7.9</td>\n",
       "      <td>-13.3</td>\n",
       "    </tr>\n",
       "    <tr>\n",
       "      <th>549</th>\n",
       "      <td>7.02</td>\n",
       "      <td>9.13</td>\n",
       "      <td>10.6</td>\n",
       "      <td>-12.3</td>\n",
       "    </tr>\n",
       "    <tr>\n",
       "      <th>550</th>\n",
       "      <td>7.03</td>\n",
       "      <td>8.91</td>\n",
       "      <td>10.4</td>\n",
       "      <td>-12.2</td>\n",
       "    </tr>\n",
       "    <tr>\n",
       "      <th>551</th>\n",
       "      <td>7.01</td>\n",
       "      <td>0.00</td>\n",
       "      <td>0.0</td>\n",
       "      <td>0.0</td>\n",
       "    </tr>\n",
       "  </tbody>\n",
       "</table>\n",
       "<p>552 rows × 4 columns</p>\n",
       "</div>"
      ],
      "text/plain": [
       "       pH   BDef  PCO2    BE\n",
       "0    7.14   8.14   7.7 -10.5\n",
       "1    7.00   7.92  12.0 -12.0\n",
       "2    7.20   3.03   8.3  -5.6\n",
       "3    7.30   5.19   5.5  -6.4\n",
       "4    7.30  -4.52   5.7  -5.8\n",
       "5    7.23   1.29   8.2  -3.8\n",
       "6    7.16   4.35   8.8  -6.8\n",
       "7    7.36   3.88   4.9  -4.6\n",
       "8    7.18   7.60   7.0  -9.6\n",
       "9    7.35   5.20   4.7  -5.9\n",
       "10   7.37   1.73   5.3  -2.6\n",
       "11   7.36   0.82   5.7  -1.5\n",
       "12   7.22   5.30   7.0  -7.3\n",
       "13   7.14   9.75   7.0 -11.7\n",
       "14   7.20   5.15   7.5  -7.3\n",
       "15   7.32   4.73   5.3  -5.9\n",
       "16   7.00  11.10  10.1 -15.0\n",
       "17   7.09   9.58   8.3 -12.1\n",
       "18   7.15   6.40   8.2  -8.8\n",
       "19   7.37   3.29   4.9  -3.7\n",
       "20   7.21   2.10   8.4  -4.6\n",
       "21   7.28   1.53   7.0  -3.0\n",
       "22   7.30   3.19   6.1  -4.5\n",
       "23   7.43   0.91   4.6  -1.3\n",
       "24   7.34   3.56   5.3  -4.4\n",
       "25   7.27   5.61   5.9  -7.0\n",
       "26   7.33   3.08   5.6  -4.3\n",
       "27   7.25   4.66   6.6  -6.0\n",
       "28   6.97  19.38   5.8 -21.5\n",
       "29   7.16   8.45   7.1 -10.4\n",
       "..    ...    ...   ...   ...\n",
       "522  7.32  -0.16   6.7  -2.0\n",
       "523  7.31   3.93   5.7  -5.0\n",
       "524  7.29   4.13   6.0  -5.6\n",
       "525  7.15   3.09   9.6  -5.8\n",
       "526  7.30   0.19   7.0  -2.2\n",
       "527  7.28  -0.38   7.6  -1.6\n",
       "528  6.98  14.39   8.7 -17.4\n",
       "529  7.01   7.14  12.1 -10.9\n",
       "530  6.99  12.61   9.5 -16.0\n",
       "531  7.23  -0.13   8.7  -2.1\n",
       "532  7.31   1.88   6.3  -3.2\n",
       "533  7.18   4.82   8.1  -7.2\n",
       "534  7.28   1.22   7.1  -3.4\n",
       "535  7.04  26.11   0.7 -26.8\n",
       "536  7.29   1.52   6.8  -2.9\n",
       "537  7.26   3.14   6.9  -4.7\n",
       "538  7.39   0.86   5.2  -1.5\n",
       "539  7.34   0.00   0.0   0.0\n",
       "540  7.26   2.23   7.2  -4.3\n",
       "541  7.29   2.50   6.5  -3.7\n",
       "542  7.25   1.09   7.8  -3.0\n",
       "543  7.36   3.50   5.0  -4.0\n",
       "544  7.32  -0.51   6.8  -0.5\n",
       "545  7.23   5.27   6.8  -7.0\n",
       "546  7.37   3.69   4.8  -3.1\n",
       "547  7.33  -0.50   6.6  -0.8\n",
       "548  7.08  10.92   7.9 -13.3\n",
       "549  7.02   9.13  10.6 -12.3\n",
       "550  7.03   8.91  10.4 -12.2\n",
       "551  7.01   0.00   0.0   0.0\n",
       "\n",
       "[552 rows x 4 columns]"
      ]
     },
     "execution_count": 54,
     "metadata": {},
     "output_type": "execute_result"
    }
   ],
   "source": [
    "df.drop(['slno'],axis=1)"
   ]
  },
  {
   "cell_type": "code",
   "execution_count": 55,
   "metadata": {},
   "outputs": [
    {
     "name": "stdout",
     "output_type": "stream",
     "text": [
      "Dimension Data train : (441, 4)\n",
      "Dimension Data test : (111, 4)\n"
     ]
    }
   ],
   "source": [
    "from sklearn.model_selection import train_test_split\n",
    "x = df.drop('slno', axis=1)\n",
    "y = df['slno']\n",
    "\n",
    "x_train, x_val, y_train, y_val = train_test_split(x, y, test_size=0.2, random_state=42)\n",
    "print(f'Dimension Data train : {x_train.shape}')\n",
    "print(f'Dimension Data test : {x_val.shape}')"
   ]
  },
  {
   "cell_type": "code",
   "execution_count": 56,
   "metadata": {},
   "outputs": [
    {
     "data": {
      "text/plain": [
       "RandomForestClassifier(bootstrap=True, class_weight=None, criterion='gini',\n",
       "            max_depth=None, max_features='auto', max_leaf_nodes=None,\n",
       "            min_impurity_decrease=0.0, min_impurity_split=None,\n",
       "            min_samples_leaf=1, min_samples_split=2,\n",
       "            min_weight_fraction_leaf=0.0, n_estimators=10, n_jobs=-1,\n",
       "            oob_score=False, random_state=None, verbose=0,\n",
       "            warm_start=False)"
      ]
     },
     "execution_count": 56,
     "metadata": {},
     "output_type": "execute_result"
    }
   ],
   "source": [
    "from sklearn.ensemble import RandomForestClassifier\n",
    "\n",
    "m = RandomForestClassifier(n_estimators=10, n_jobs=-1)\n",
    "m.fit(x_train, y_train)"
   ]
  },
  {
   "cell_type": "code",
   "execution_count": 57,
   "metadata": {},
   "outputs": [
    {
     "name": "stdout",
     "output_type": "stream",
     "text": [
      "Scores:\n",
      "Train      = 0.9546\n",
      "Validation = 0.0\n"
     ]
    }
   ],
   "source": [
    "def score():\n",
    "    print(f'Scores:')\n",
    "    print(f'Train      = {m.score(x_train, y_train):.4}')\n",
    "    print(f'Validation = {m.score(x_val, y_val):.4}')\n",
    "    \n",
    "score()"
   ]
  },
  {
   "cell_type": "code",
   "execution_count": 58,
   "metadata": {},
   "outputs": [
    {
     "data": {
      "text/plain": [
       "388    389\n",
       "516    517\n",
       "210    211\n",
       "15      16\n",
       "336    337\n",
       "39      40\n",
       "54      55\n",
       "163    164\n",
       "46      47\n",
       "93      94\n",
       "192    193\n",
       "341    342\n",
       "228    229\n",
       "237    238\n",
       "286    287\n",
       "551    552\n",
       "408    409\n",
       "367    368\n",
       "158    159\n",
       "319    320\n",
       "481    482\n",
       "332    333\n",
       "184    185\n",
       "400    401\n",
       "69      70\n",
       "209    210\n",
       "310    311\n",
       "280    281\n",
       "312    313\n",
       "124    125\n",
       "      ... \n",
       "510    511\n",
       "58      59\n",
       "474    475\n",
       "252    253\n",
       "21      22\n",
       "313    314\n",
       "459    460\n",
       "160    161\n",
       "276    277\n",
       "191    192\n",
       "385    386\n",
       "413    414\n",
       "491    492\n",
       "343    344\n",
       "308    309\n",
       "130    131\n",
       "99     100\n",
       "372    373\n",
       "87      88\n",
       "458    459\n",
       "330    331\n",
       "214    215\n",
       "466    467\n",
       "121    122\n",
       "20      21\n",
       "71      72\n",
       "106    107\n",
       "270    271\n",
       "435    436\n",
       "102    103\n",
       "Name: slno, Length: 441, dtype: int64"
      ]
     },
     "execution_count": 58,
     "metadata": {},
     "output_type": "execute_result"
    }
   ],
   "source": [
    "x_train\n",
    "y_train"
   ]
  },
  {
   "cell_type": "code",
   "execution_count": 59,
   "metadata": {},
   "outputs": [
    {
     "name": "stdout",
     "output_type": "stream",
     "text": [
      "(10, 111)\n"
     ]
    },
    {
     "data": {
      "text/plain": [
       "array([[192., 207., 231., ..., 347., 380., 285.],\n",
       "       [192., 207., 173., ..., 342., 125., 285.],\n",
       "       [192., 207., 428., ..., 369., 125., 376.],\n",
       "       ...,\n",
       "       [ 96., 299., 428., ..., 347., 125., 285.],\n",
       "       [436., 183.,  78., ..., 370., 373.,  70.],\n",
       "       [192., 387., 428., ..., 347., 373., 214.]])"
      ]
     },
     "execution_count": 59,
     "metadata": {},
     "output_type": "execute_result"
    }
   ],
   "source": [
    "preds = np.stack([t.predict(x_val) for t in m.estimators_])\n",
    "print(preds.shape)\n",
    "preds"
   ]
  },
  {
   "cell_type": "code",
   "execution_count": 60,
   "metadata": {},
   "outputs": [
    {
     "data": {
      "text/plain": [
       "(True, 145.42162837762476)"
      ]
     },
     "execution_count": 60,
     "metadata": {},
     "output_type": "execute_result"
    }
   ],
   "source": [
    "sample = x_val.sample(1)\n",
    "\n",
    "pred = np.stack([t.predict(sample) for t in m.estimators_])\n",
    "\n",
    "pred.mean() > 0.5, pred.std()"
   ]
  },
  {
   "cell_type": "code",
   "execution_count": 61,
   "metadata": {},
   "outputs": [
    {
     "data": {
      "text/plain": [
       "array([[ 20.],\n",
       "       [331.],\n",
       "       [116.],\n",
       "       [ 20.],\n",
       "       [331.],\n",
       "       [ 11.],\n",
       "       [284.],\n",
       "       [331.],\n",
       "       [ 20.],\n",
       "       [331.]])"
      ]
     },
     "execution_count": 61,
     "metadata": {},
     "output_type": "execute_result"
    }
   ],
   "source": [
    "pred"
   ]
  },
  {
   "cell_type": "code",
   "execution_count": 62,
   "metadata": {},
   "outputs": [
    {
     "data": {
      "text/plain": [
       "RandomForestClassifier(bootstrap=True, class_weight=None, criterion='gini',\n",
       "            max_depth=None, max_features='auto', max_leaf_nodes=None,\n",
       "            min_impurity_decrease=0.0, min_impurity_split=None,\n",
       "            min_samples_leaf=1, min_samples_split=2,\n",
       "            min_weight_fraction_leaf=0.0, n_estimators=40, n_jobs=-1,\n",
       "            oob_score=True, random_state=None, verbose=0, warm_start=False)"
      ]
     },
     "execution_count": 62,
     "metadata": {},
     "output_type": "execute_result"
    }
   ],
   "source": [
    "m = RandomForestClassifier(n_estimators=40, n_jobs=-1, oob_score=True)\n",
    "m.fit(x_train, y_train)"
   ]
  },
  {
   "cell_type": "code",
   "execution_count": 63,
   "metadata": {},
   "outputs": [
    {
     "data": {
      "text/plain": [
       "0.0"
      ]
     },
     "execution_count": 63,
     "metadata": {},
     "output_type": "execute_result"
    }
   ],
   "source": [
    "m.oob_score_"
   ]
  },
  {
   "cell_type": "code",
   "execution_count": 64,
   "metadata": {},
   "outputs": [
    {
     "name": "stdout",
     "output_type": "stream",
     "text": [
      "Scores:\n",
      "Train      = 0.9773\n",
      "Validation = 0.0\n",
      "OOB        = 0.0\n"
     ]
    }
   ],
   "source": [
    "def score():\n",
    "    print(f'Scores:')\n",
    "    print(f'Train      = {m.score(x_train, y_train):.4}')\n",
    "    print(f'Validation = {m.score(x_val, y_val):.4}')\n",
    "    if hasattr(m, 'oob_score_'): print(f'OOB        = {m.oob_score_:.4}')\n",
    "    \n",
    "score()   "
   ]
  },
  {
   "cell_type": "code",
   "execution_count": 65,
   "metadata": {},
   "outputs": [
    {
     "data": {
      "text/plain": [
       "array([0.19709159, 0.26990429, 0.22840072, 0.30460341])"
      ]
     },
     "execution_count": 65,
     "metadata": {},
     "output_type": "execute_result"
    }
   ],
   "source": [
    "m.feature_importances_"
   ]
  },
  {
   "cell_type": "code",
   "execution_count": 68,
   "metadata": {},
   "outputs": [
    {
     "data": {
      "text/html": [
       "<style  type=\"text/css\" >\n",
       "    #T_1e2f1b64_3a85_11e9_af38_780cb8f9f794row0_col1 {\n",
       "            width:  10em;\n",
       "             height:  80%;\n",
       "            background:  linear-gradient(90deg,#d65f5f 100.0%, transparent 0%);\n",
       "        }    #T_1e2f1b64_3a85_11e9_af38_780cb8f9f794row1_col1 {\n",
       "            width:  10em;\n",
       "             height:  80%;\n",
       "            background:  linear-gradient(90deg,#d65f5f 67.7%, transparent 0%);\n",
       "        }    #T_1e2f1b64_3a85_11e9_af38_780cb8f9f794row2_col1 {\n",
       "            width:  10em;\n",
       "             height:  80%;\n",
       "            background:  linear-gradient(90deg,#d65f5f 29.1%, transparent 0%);\n",
       "        }    #T_1e2f1b64_3a85_11e9_af38_780cb8f9f794row3_col1 {\n",
       "            width:  10em;\n",
       "             height:  80%;\n",
       "        }</style>  \n",
       "<table id=\"T_1e2f1b64_3a85_11e9_af38_780cb8f9f794\" > \n",
       "<thead>    <tr> \n",
       "        <th class=\"blank level0\" ></th> \n",
       "        <th class=\"col_heading level0 col0\" >column_name</th> \n",
       "        <th class=\"col_heading level0 col1\" >values</th> \n",
       "    </tr></thead> \n",
       "<tbody>    <tr> \n",
       "        <th id=\"T_1e2f1b64_3a85_11e9_af38_780cb8f9f794level0_row0\" class=\"row_heading level0 row0\" >3</th> \n",
       "        <td id=\"T_1e2f1b64_3a85_11e9_af38_780cb8f9f794row0_col0\" class=\"data row0 col0\" >BE</td> \n",
       "        <td id=\"T_1e2f1b64_3a85_11e9_af38_780cb8f9f794row0_col1\" class=\"data row0 col1\" >0.304603</td> \n",
       "    </tr>    <tr> \n",
       "        <th id=\"T_1e2f1b64_3a85_11e9_af38_780cb8f9f794level0_row1\" class=\"row_heading level0 row1\" >1</th> \n",
       "        <td id=\"T_1e2f1b64_3a85_11e9_af38_780cb8f9f794row1_col0\" class=\"data row1 col0\" >BDef</td> \n",
       "        <td id=\"T_1e2f1b64_3a85_11e9_af38_780cb8f9f794row1_col1\" class=\"data row1 col1\" >0.269904</td> \n",
       "    </tr>    <tr> \n",
       "        <th id=\"T_1e2f1b64_3a85_11e9_af38_780cb8f9f794level0_row2\" class=\"row_heading level0 row2\" >2</th> \n",
       "        <td id=\"T_1e2f1b64_3a85_11e9_af38_780cb8f9f794row2_col0\" class=\"data row2 col0\" >PCO2</td> \n",
       "        <td id=\"T_1e2f1b64_3a85_11e9_af38_780cb8f9f794row2_col1\" class=\"data row2 col1\" >0.228401</td> \n",
       "    </tr>    <tr> \n",
       "        <th id=\"T_1e2f1b64_3a85_11e9_af38_780cb8f9f794level0_row3\" class=\"row_heading level0 row3\" >0</th> \n",
       "        <td id=\"T_1e2f1b64_3a85_11e9_af38_780cb8f9f794row3_col0\" class=\"data row3 col0\" >pH</td> \n",
       "        <td id=\"T_1e2f1b64_3a85_11e9_af38_780cb8f9f794row3_col1\" class=\"data row3 col1\" >0.197092</td> \n",
       "    </tr></tbody> \n",
       "</table> "
      ],
      "text/plain": [
       "<pandas.io.formats.style.Styler at 0x2b5f31a82b0>"
      ]
     },
     "execution_count": 68,
     "metadata": {},
     "output_type": "execute_result"
    }
   ],
   "source": [
    "imp = pd.DataFrame({'column_name':x_train.columns, 'values':m.feature_importances_}).sort_values('values', ascending=False)\n",
    "imp.style.bar()"
   ]
  },
  {
   "cell_type": "code",
   "execution_count": 69,
   "metadata": {},
   "outputs": [
    {
     "data": {
      "text/plain": [
       "(1, 10)"
      ]
     },
     "execution_count": 69,
     "metadata": {},
     "output_type": "execute_result"
    }
   ],
   "source": [
    "df = np.array([[600,1,2,40,3,60000,2,1,1,50000]])\n",
    "df.shape"
   ]
  },
  {
   "cell_type": "code",
   "execution_count": 70,
   "metadata": {},
   "outputs": [
    {
     "name": "stdout",
     "output_type": "stream",
     "text": [
      "Predictions:\n",
      " [248 265 533 467 545 530 434 398 396  24  57 165   6 301 490  62 503 128\n",
      " 487 100 381 517 320  26 131 418 504  47 418 137 359 533 504 114 220 181\n",
      " 250 458 287 447  42  29 161 449 137 534 320  46 348 413 246  99 242 153\n",
      " 410 215 356 323 276 320 418  92  22 340 427 238 381 145 261 218 124  92\n",
      " 148 170 452 380 447  89 455 417   5 126 137 237 241 142 242 255  22 253\n",
      " 100 356 506 422 145 405  75 386  97 304  46 181 202  97 494 433 521 485\n",
      " 332 169 160]\n"
     ]
    }
   ],
   "source": [
    "y_pred = m.predict(x_val)\n",
    "print(\"Predictions:\\n {}\".format(y_pred))"
   ]
  },
  {
   "cell_type": "code",
   "execution_count": 71,
   "metadata": {},
   "outputs": [
    {
     "data": {
      "text/plain": [
       "0.0"
      ]
     },
     "execution_count": 71,
     "metadata": {},
     "output_type": "execute_result"
    }
   ],
   "source": [
    "np.mean(y_pred == y_val)\n",
    "m.score(x_val, y_val)\n",
    "m.oob_score_"
   ]
  }
 ],
 "metadata": {
  "kernelspec": {
   "display_name": "Python 3",
   "language": "python",
   "name": "python3"
  },
  "language_info": {
   "codemirror_mode": {
    "name": "ipython",
    "version": 3
   },
   "file_extension": ".py",
   "mimetype": "text/x-python",
   "name": "python",
   "nbconvert_exporter": "python",
   "pygments_lexer": "ipython3",
   "version": "3.7.1"
  }
 },
 "nbformat": 4,
 "nbformat_minor": 2
}
